{
  "nbformat": 4,
  "nbformat_minor": 0,
  "metadata": {
    "colab": {
      "provenance": []
    },
    "kernelspec": {
      "name": "python3",
      "display_name": "Python 3"
    },
    "language_info": {
      "name": "python"
    }
  },
  "cells": [
    {
      "cell_type": "code",
      "execution_count": null,
      "metadata": {
        "id": "I8-1HY7XO9l1"
      },
      "outputs": [],
      "source": [
        "!pip install scikit-surprise\n",
        "import pandas as pd\n",
        "import numpy as np\n",
        "from surprise import SVD, NMF, SVDpp\n",
        "from surprise import Dataset\n",
        "from surprise import Reader\n",
        "from surprise.model_selection import cross_validate"
      ]
    },
    {
      "cell_type": "code",
      "source": [
        "ratings = pd.read_csv('/content/ratings.csv')\n",
        "movies = pd.read_csv('/content/movies.csv')\n",
        "tags = pd.read_csv('/content/tags.csv')"
      ],
      "metadata": {
        "id": "d1m4FR9LPMBN"
      },
      "execution_count": null,
      "outputs": []
    },
    {
      "cell_type": "code",
      "source": [
        "merged_data = pd.merge(ratings, movies, on='movieId')\n",
        "merged_data = pd.merge(merged_data, tags, on=['userId', 'movieId'])"
      ],
      "metadata": {
        "id": "Tk95I-9TPOEV"
      },
      "execution_count": null,
      "outputs": []
    },
    {
      "cell_type": "code",
      "source": [
        "reader = Reader(rating_scale=(1, 5))\n",
        "data = Dataset.load_from_df(merged_data[['userId', 'movieId', 'rating']], reader)"
      ],
      "metadata": {
        "id": "CsAj42_ePQMg"
      },
      "execution_count": null,
      "outputs": []
    },
    {
      "cell_type": "code",
      "source": [
        "svd = SVD()\n",
        "svdpp = SVDpp()\n",
        "nmf = NMF()"
      ],
      "metadata": {
        "id": "x8ZAn6bSPQqV"
      },
      "execution_count": null,
      "outputs": []
    },
    {
      "cell_type": "code",
      "source": [
        "cross_validate(svd, data, measures=['RMSE', 'MAE'], cv=5, verbose=True)\n"
      ],
      "metadata": {
        "colab": {
          "base_uri": "https://localhost:8080/"
        },
        "id": "ir5UaMs0PfNH",
        "outputId": "9cdee040-cd7a-4f42-fdf5-62e77b6b1fa9"
      },
      "execution_count": null,
      "outputs": [
        {
          "output_type": "stream",
          "name": "stdout",
          "text": [
            "Evaluating RMSE, MAE of algorithm SVD on 5 split(s).\n",
            "\n",
            "                  Fold 1  Fold 2  Fold 3  Fold 4  Fold 5  Mean    Std     \n",
            "RMSE (testset)    0.3958  0.3789  0.3828  0.4173  0.4095  0.3969  0.0148  \n",
            "MAE (testset)     0.2144  0.2083  0.2078  0.2259  0.2223  0.2157  0.0073  \n",
            "Fit time          0.17    0.16    0.15    0.17    0.19    0.17    0.01    \n",
            "Test time         0.02    0.02    0.03    0.05    0.03    0.03    0.01    \n"
          ]
        },
        {
          "output_type": "execute_result",
          "data": {
            "text/plain": [
              "{'test_rmse': array([0.39579445, 0.37890207, 0.38282312, 0.41734902, 0.40951101]),\n",
              " 'test_mae': array([0.21437142, 0.20827116, 0.20783267, 0.22588605, 0.22228031]),\n",
              " 'fit_time': (0.16634178161621094,\n",
              "  0.16364216804504395,\n",
              "  0.15263700485229492,\n",
              "  0.17004084587097168,\n",
              "  0.1856064796447754),\n",
              " 'test_time': (0.02122807502746582,\n",
              "  0.02358841896057129,\n",
              "  0.025414705276489258,\n",
              "  0.045433998107910156,\n",
              "  0.03316235542297363)}"
            ]
          },
          "metadata": {},
          "execution_count": 6
        }
      ]
    },
    {
      "cell_type": "markdown",
      "source": [
        "**Висновки**\n",
        "\n",
        "Середня квадратична помилка передбачення (RMSE) для моделі SVD складає 0.3969 зі стандартним відхиленням 0.0148. Це свідчить про те, що модель має низьку помилку у передбаченні.\n",
        "\n",
        "Середня абсолютна помилка передбачення (MAE) для моделі SVD становить 0.2157 зі стандартним відхиленням 0.0073. Це також свідчить про високу точність моделі у передбаченні.\n",
        "\n",
        "Час навчання моделі складає приблизно 0.17 секунди, а час тестування - 0.03 секунди. Це означає, що модель навчається досить швидко і має невеликий час виконання для передбачень.\n",
        "\n",
        "Отже, модель матричної факторизації (SVD) має високу точність у передбаченні, низьку помилку та швидкість навчання, що робить її ефективним варіантом для рекомендаційних систем."
      ],
      "metadata": {
        "id": "L88xrjP4R2te"
      }
    },
    {
      "cell_type": "code",
      "source": [
        "cross_validate(svdpp, data, measures=['RMSE', 'MAE'], cv=5, verbose=True)\n"
      ],
      "metadata": {
        "colab": {
          "base_uri": "https://localhost:8080/"
        },
        "id": "enWfgabxPiQp",
        "outputId": "77407924-d789-4ceb-b0d3-cb03f9ce5d11"
      },
      "execution_count": null,
      "outputs": [
        {
          "output_type": "stream",
          "name": "stdout",
          "text": [
            "Evaluating RMSE, MAE of algorithm SVDpp on 5 split(s).\n",
            "\n",
            "                  Fold 1  Fold 2  Fold 3  Fold 4  Fold 5  Mean    Std     \n",
            "RMSE (testset)    0.3673  0.3925  0.3817  0.3636  0.3834  0.3777  0.0107  \n",
            "MAE (testset)     0.1986  0.2170  0.2058  0.2000  0.2037  0.2050  0.0065  \n",
            "Fit time          38.29   34.87   34.62   35.31   39.88   36.59   2.11    \n",
            "Test time         4.82    5.62    4.88    4.87    4.82    5.00    0.31    \n"
          ]
        },
        {
          "output_type": "execute_result",
          "data": {
            "text/plain": [
              "{'test_rmse': array([0.36733881, 0.39247479, 0.38173012, 0.36359439, 0.38342355]),\n",
              " 'test_mae': array([0.19858937, 0.21697953, 0.20575702, 0.19997089, 0.20371672]),\n",
              " 'fit_time': (38.287325382232666,\n",
              "  34.86989498138428,\n",
              "  34.624591588974,\n",
              "  35.30998349189758,\n",
              "  39.88260006904602),\n",
              " 'test_time': (4.818500518798828,\n",
              "  5.619095325469971,\n",
              "  4.883431911468506,\n",
              "  4.8720879554748535,\n",
              "  4.824312686920166)}"
            ]
          },
          "metadata": {},
          "execution_count": 7
        }
      ]
    },
    {
      "cell_type": "markdown",
      "source": [
        "**Висновки**\n",
        "\n",
        "Середня квадратична помилка передбачення (RMSE) для моделі SVD++ складає 0.3777 зі стандартним відхиленням 0.0107. Це свідчить про високу точність моделі у передбаченні.\n",
        "\n",
        "Середня абсолютна помилка передбачення (MAE) для моделі SVD++ становить 0.2050 зі стандартним відхиленням 0.0065. Це також свідчить про високу точність моделі.\n",
        "\n",
        "Час навчання моделі складає приблизно 36.59 секунд, а час тестування - 5.00 секунд. Це означає, що модель SVD++ вимагає більше часу для навчання порівняно з SVD, але все ще забезпечує швидкість виконання передбачень на тестових даних.\n",
        "\n",
        "Отже, можна зробити висновок, що модель SVD++ показує високу точність у передбаченні, з нижчим значенням RMSE та MAE порівняно з SVD. Втім, вона вимагає більше часу для навчання."
      ],
      "metadata": {
        "id": "qAiVJkRpRhMU"
      }
    },
    {
      "cell_type": "code",
      "source": [
        "cross_validate(nmf, data, measures=['RMSE', 'MAE'], cv=5, verbose=True)\n"
      ],
      "metadata": {
        "colab": {
          "base_uri": "https://localhost:8080/"
        },
        "id": "G3haNNlcPllJ",
        "outputId": "455e48a3-38d2-4449-eef8-3f6a75615015"
      },
      "execution_count": null,
      "outputs": [
        {
          "output_type": "stream",
          "name": "stdout",
          "text": [
            "Evaluating RMSE, MAE of algorithm NMF on 5 split(s).\n",
            "\n",
            "                  Fold 1  Fold 2  Fold 3  Fold 4  Fold 5  Mean    Std     \n",
            "RMSE (testset)    0.3852  0.4007  0.3659  0.4500  0.3743  0.3952  0.0298  \n",
            "MAE (testset)     0.1986  0.2152  0.1904  0.2242  0.1951  0.2047  0.0128  \n",
            "Fit time          0.41    0.40    0.43    0.44    0.37    0.41    0.03    \n",
            "Test time         0.05    0.02    0.02    0.02    0.02    0.02    0.01    \n"
          ]
        },
        {
          "output_type": "execute_result",
          "data": {
            "text/plain": [
              "{'test_rmse': array([0.38523899, 0.40067867, 0.36591266, 0.45001252, 0.37430863]),\n",
              " 'test_mae': array([0.19861953, 0.21519768, 0.19041123, 0.22417653, 0.19505972]),\n",
              " 'fit_time': (0.40869641304016113,\n",
              "  0.39881157875061035,\n",
              "  0.43105411529541016,\n",
              "  0.4388144016265869,\n",
              "  0.3662848472595215),\n",
              " 'test_time': (0.0464785099029541,\n",
              "  0.01801776885986328,\n",
              "  0.01806926727294922,\n",
              "  0.01755046844482422,\n",
              "  0.017241239547729492)}"
            ]
          },
          "metadata": {},
          "execution_count": 8
        }
      ]
    },
    {
      "cell_type": "markdown",
      "source": [
        "**Висновки**\n",
        "\n",
        "Середня квадратична помилка передбачення (RMSE) для моделі NMF складає 0.3952 зі стандартним відхиленням 0.0298. Це свідчить про високу точність моделі у передбаченні.\n",
        "\n",
        "Середня абсолютна помилка передбачення (MAE) для моделі NMF становить 0.2047 зі стандартним відхиленням 0.0128. Це також свідчить про високу точність моделі.\n",
        "\n",
        "Час навчання моделі складає приблизно 0.41 секунд, а час тестування - 0.02 секунд. Модель NMF може займати більше часу для навчання порівняно зі SVD та SVD++, але її час тестування є швидким.\n",
        "\n",
        "Отже, модель NMF також показує високу точність у передбаченні, але має трохи вищу помилку порівняно з SVD та SVD++. Проте, вона пропонує швидкий час тестування."
      ],
      "metadata": {
        "id": "OPGxazNwSj0-"
      }
    },
    {
      "cell_type": "code",
      "source": [
        "trainset = data.build_full_trainset()\n",
        "svd.fit(trainset)"
      ],
      "metadata": {
        "colab": {
          "base_uri": "https://localhost:8080/"
        },
        "id": "27PsTkWxS4YB",
        "outputId": "cd4c1c16-0cfc-4ad9-f3c1-a4c1842e4066"
      },
      "execution_count": null,
      "outputs": [
        {
          "output_type": "execute_result",
          "data": {
            "text/plain": [
              "<surprise.prediction_algorithms.matrix_factorization.SVD at 0x7f6c79b3afb0>"
            ]
          },
          "metadata": {},
          "execution_count": 9
        }
      ]
    },
    {
      "cell_type": "code",
      "source": [
        "trainset = data.build_full_trainset()\n",
        "svdpp.fit(trainset)"
      ],
      "metadata": {
        "colab": {
          "base_uri": "https://localhost:8080/"
        },
        "id": "IfQ1hXuSS5-v",
        "outputId": "61763b15-a4dc-4e7d-ac1c-21bdfc252cbe"
      },
      "execution_count": null,
      "outputs": [
        {
          "output_type": "execute_result",
          "data": {
            "text/plain": [
              "<surprise.prediction_algorithms.matrix_factorization.SVDpp at 0x7f6c79b3b4f0>"
            ]
          },
          "metadata": {},
          "execution_count": 12
        }
      ]
    },
    {
      "cell_type": "code",
      "source": [
        "trainset = data.build_full_trainset()\n",
        "nmf.fit(trainset)"
      ],
      "metadata": {
        "colab": {
          "base_uri": "https://localhost:8080/"
        },
        "id": "vg30k9LkS7OX",
        "outputId": "85492b59-6c08-4134-a202-1f9e91e407e7"
      },
      "execution_count": null,
      "outputs": [
        {
          "output_type": "execute_result",
          "data": {
            "text/plain": [
              "<surprise.prediction_algorithms.matrix_factorization.NMF at 0x7f6c79b3ae60>"
            ]
          },
          "metadata": {},
          "execution_count": 11
        }
      ]
    },
    {
      "cell_type": "markdown",
      "source": [
        "**ДРУГА ЧАСТИНА**"
      ],
      "metadata": {
        "id": "YZIxy1UIVFKo"
      }
    },
    {
      "cell_type": "code",
      "source": [
        "ratings_data = pd.read_csv('/content/ratings.csv')\n",
        "movies_data = pd.read_csv('/content/movies.csv')\n",
        "genome_scores_data = pd.read_csv('/content/genome-scores.csv')\n",
        "genome_tags_data = pd.read_csv('/content/genome-tags.csv')"
      ],
      "metadata": {
        "id": "c-C5WpNgY8X6"
      },
      "execution_count": 8,
      "outputs": []
    },
    {
      "cell_type": "code",
      "source": [
        "users = ratings_data['userId'].unique()\n",
        "movies = ratings_data['movieId'].unique()"
      ],
      "metadata": {
        "id": "gx3N-T8t1jaU"
      },
      "execution_count": 9,
      "outputs": []
    },
    {
      "cell_type": "code",
      "source": [
        "num_users = len(users)\n",
        "num_movies = len(movies)"
      ],
      "metadata": {
        "id": "fP_AFBYj1lb0"
      },
      "execution_count": 10,
      "outputs": []
    },
    {
      "cell_type": "code",
      "source": [
        "ratings_matrix = np.zeros((num_users, num_movies))"
      ],
      "metadata": {
        "id": "WDpDP2AM1ogm"
      },
      "execution_count": 11,
      "outputs": []
    },
    {
      "cell_type": "code",
      "source": [
        "user_indices = np.searchsorted(users, ratings_data['userId'])\n",
        "movie_indices = np.searchsorted(movies, ratings_data['movieId'])"
      ],
      "metadata": {
        "id": "vOR543zz1rDt"
      },
      "execution_count": 12,
      "outputs": []
    },
    {
      "cell_type": "code",
      "source": [
        "valid_indices = (user_indices < num_users) & (movie_indices < num_movies)\n",
        "user_indices = user_indices[valid_indices]\n",
        "movie_indices = movie_indices[valid_indices]\n",
        "ratings_data = ratings_data[valid_indices]"
      ],
      "metadata": {
        "id": "vaYorYe_2AvO"
      },
      "execution_count": 14,
      "outputs": []
    },
    {
      "cell_type": "code",
      "source": [
        "ratings_matrix[user_indices, movie_indices] = ratings_data['rating']"
      ],
      "metadata": {
        "id": "sHwHqB-h1tf1"
      },
      "execution_count": 15,
      "outputs": []
    },
    {
      "cell_type": "code",
      "source": [
        "user_similarity = np.dot(ratings_matrix, ratings_matrix.T)\n"
      ],
      "metadata": {
        "id": "AmGaukm72EtV"
      },
      "execution_count": 16,
      "outputs": []
    },
    {
      "cell_type": "code",
      "source": [
        "genome_similarity_data = pd.pivot_table(genome_scores_data, index='movieId', columns='tagId', values='relevance').values"
      ],
      "metadata": {
        "id": "DXvHE6AT2HX2"
      },
      "execution_count": 17,
      "outputs": []
    },
    {
      "cell_type": "code",
      "source": [
        "def predict_rating(user_id, movie_id):\n",
        "    user_index = np.where(users == user_id)[0][0]\n",
        "    movie_index = np.where(movies == movie_id)[0][0]\n",
        "\n",
        "    rated_users = np.nonzero(ratings_matrix[:, movie_index])[0]\n",
        "\n",
        "    similarities = user_similarity[user_index, rated_users]\n",
        "\n",
        "    k = 5\n",
        "    top_similarities = np.argsort(similarities)[-k:]\n",
        "\n",
        "    weighted_ratings = np.sum(similarities[top_similarities] * ratings_matrix[rated_users[top_similarities], movie_index])\n",
        "    similarity_sum = np.sum(np.abs(similarities[top_similarities]))\n",
        "\n",
        "    if similarity_sum > 0:\n",
        "        predicted_rating = weighted_ratings / similarity_sum\n",
        "    else:\n",
        "        predicted_rating = 0.0\n",
        "\n",
        "    movie_title = movies_data[movies_data['movieId'] == movie_id]['title'].values[0]\n",
        "\n",
        "    return predicted_rating, movie_title"
      ],
      "metadata": {
        "id": "zG6Ocz9H2T5z"
      },
      "execution_count": 33,
      "outputs": []
    },
    {
      "cell_type": "markdown",
      "source": [
        "**ПРИКЛАДИ ПРОГНОЗУВАННЯ ОЦІНКИ ОДНОГО ФІЛЬМУ ДЛЯ ОДНОГО КОРИСТУВАЧА**"
      ],
      "metadata": {
        "id": "Tyb81jka5rAW"
      }
    },
    {
      "cell_type": "code",
      "source": [
        "user_id = 1\n",
        "movie_id = 665\n",
        "\n",
        "predicted_rating, movie_title = predict_rating(user_id, movie_id)\n",
        "print(f\"Прогнозований рейтинг користувача {user_id} для фільму '{movie_title} (ID: {movie_id})': {predicted_rating}\")\n"
      ],
      "metadata": {
        "colab": {
          "base_uri": "https://localhost:8080/"
        },
        "id": "wBXTsQZy2ZOj",
        "outputId": "64522d4f-71a5-4f18-d2f2-c3dd1fb8c312"
      },
      "execution_count": 34,
      "outputs": [
        {
          "output_type": "stream",
          "name": "stdout",
          "text": [
            "Прогнозований рейтинг користувача 1 для фільму 'Underground (1995) (ID: 665)': 4.174919569170513\n"
          ]
        }
      ]
    },
    {
      "cell_type": "markdown",
      "source": [
        "**Висновок**\n",
        "\n",
        "З великою імовірністю, фільм 'Underground (1995) (ID: 665) сподобається користувачу з id 1"
      ],
      "metadata": {
        "id": "CMRtEwF43HXF"
      }
    },
    {
      "cell_type": "code",
      "source": [
        "user_id = 1\n",
        "movie_id = 33\n",
        "\n",
        "predicted_rating, movie_title = predict_rating(user_id, movie_id)\n",
        "print(f\"Прогнозований рейтинг користувача {user_id} для фільму '{movie_title} (ID: {movie_id})': {predicted_rating}\")\n"
      ],
      "metadata": {
        "colab": {
          "base_uri": "https://localhost:8080/"
        },
        "id": "nYLtzxcq3EZd",
        "outputId": "eae88a96-793d-4450-cfc4-58faaa9ce93b"
      },
      "execution_count": 35,
      "outputs": [
        {
          "output_type": "stream",
          "name": "stdout",
          "text": [
            "Прогнозований рейтинг користувача 1 для фільму 'Wings of Courage (1995) (ID: 33)': 0.0\n"
          ]
        }
      ]
    },
    {
      "cell_type": "markdown",
      "source": [
        "**Висновок**\n",
        "\n",
        "З фільм 'Wings of Courage (1995) (ID: 33) не сподобається користувачу з id 1"
      ],
      "metadata": {
        "id": "H9IHU75Z3Tk5"
      }
    },
    {
      "cell_type": "markdown",
      "source": [
        "**ПРОГНОЗУВАННЯ ТОП-10 ФІЛЬМІВ, ЯКІ МОЖУТЬ СПОДОБАТИСЯ ОДНОМУ КОРИСТУВАЧУ**"
      ],
      "metadata": {
        "id": "Hcsy8odI5zVQ"
      }
    },
    {
      "cell_type": "code",
      "source": [
        "def get_top_movies_for_user(user_id, top_n=10):\n",
        "    user_index = np.where(users == user_id)[0][0]\n",
        "\n",
        "    predicted_ratings = np.zeros(num_movies)\n",
        "    for movie_index in range(num_movies):\n",
        "        if ratings_matrix[user_index, movie_index] != 0:\n",
        "            continue\n",
        "\n",
        "        similarities = user_similarity[user_index, :]\n",
        "        rated_users = np.nonzero(ratings_matrix[:, movie_index])[0]\n",
        "        weighted_ratings = np.sum(similarities[rated_users] * ratings_matrix[rated_users, movie_index])\n",
        "        similarity_sum = np.sum(np.abs(similarities[rated_users]))\n",
        "        if similarity_sum > 0:\n",
        "            predicted_ratings[movie_index] = weighted_ratings / similarity_sum\n",
        "\n",
        "    top_movie_indices = np.argsort(predicted_ratings)[::-1][:top_n]\n",
        "\n",
        "    top_movie_titles = [movies_data[movies_data['movieId'] == movies[index]]['title'].values[0] for index in top_movie_indices]\n",
        "\n",
        "    return top_movie_indices, top_movie_titles"
      ],
      "metadata": {
        "id": "mlb5F1Lz5efu"
      },
      "execution_count": 36,
      "outputs": []
    },
    {
      "cell_type": "code",
      "source": [
        "user_id = 1\n",
        "top_movie_indices, top_movie_titles = get_top_movies_for_user(user_id)\n",
        "\n",
        "print(f\"Топ-10 фільмів для користувача {user_id}:\")\n",
        "for index, title in zip(top_movie_indices, top_movie_titles):\n",
        "    print(f\"{title} (ID: {movies[index]})\")"
      ],
      "metadata": {
        "colab": {
          "base_uri": "https://localhost:8080/"
        },
        "id": "lyLgHMtc5jzN",
        "outputId": "b60584ce-fece-4c04-83b0-a27e04cdeb38"
      },
      "execution_count": 37,
      "outputs": [
        {
          "output_type": "stream",
          "name": "stdout",
          "text": [
            "Топ-10 фільмів для користувача 1:\n",
            "Nightingale (2015) (ID: 133602)\n",
            "Confidence (2003) (ID: 6322)\n",
            "Easy Living (1937) (ID: 79832)\n",
            "Replicant (2001) (ID: 65552)\n",
            "Yu-Gi-Oh! (2004) (ID: 8811)\n",
            "Standing Aside, Watching (2013) (ID: 128948)\n",
            "Guess Who's Coming to Dinner (1967) (ID: 3451)\n",
            "Jersey Girl (1992) (ID: 7417)\n",
            "Hitman (Contract Killer) (Sat sau ji wong) (1998) (ID: 98854)\n",
            "Get Out Your Handkerchiefs (Préparez vos mouchoirs) (1978) (ID: 5087)\n"
          ]
        }
      ]
    }
  ]
}